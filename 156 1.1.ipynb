{
 "cells": [
  {
   "cell_type": "code",
   "execution_count": null,
   "metadata": {
    "collapsed": true
   },
   "outputs": [],
   "source": [
    "'''\n",
    "Excercise 1.15\n",
    "\n",
    "What is the expected number of correct matches that the medium will make (by chance)? --> 1\n",
    "\n",
    "Given that we have 19.3% chance of getting at a match and each round we have 5 matches\n",
    "we will have 5 * 0.193 = 0.958 %. Thus the most likely number of matches is one.\n",
    "'''"
   ]
  },
  {
   "cell_type": "code",
   "execution_count": 292,
   "metadata": {
    "collapsed": false
   },
   "outputs": [
    {
     "name": "stdout",
     "output_type": "stream",
     "text": [
      "1351 5649\n",
      "Hitting the correct answer 19.3\n"
     ]
    }
   ],
   "source": [
    "import random\n",
    "\n",
    "keys = [1,2,3,4,5]\n",
    "watches = ['A','B','C','D','E']\n",
    "\n",
    "counter_miss = 0\n",
    "counter_hit = 0\n",
    "\n",
    "for i in range(7000):\n",
    "    \n",
    "    random.choice (keys)\n",
    "    random.choice (watches)\n",
    "    \n",
    "#If they match add 1 to the counter \n",
    "    if (random.choice (keys) == 1 and random.choice (watches) == 'A') or (random.choice (keys) == 2 and random.choice (watches) == 'B') or (random.choice (keys) == 3 and random.choice (watches) == 'C') or (random.choice (keys) == 4 and random.choice (watches) == 'D') or random.choice (keys) == 5 and random.choice (watches) == 'E':\n",
    "        counter_hit +=1\n",
    "    else:\n",
    "        counter_miss +=1\n",
    "    \n",
    "print counter_hit, counter_miss\n",
    "print ('Hitting the correct answer '+ str(float(counter_hit)/ 7000*100)) "
   ]
  },
  {
   "cell_type": "code",
   "execution_count": null,
   "metadata": {
    "collapsed": true
   },
   "outputs": [],
   "source": [
    "'''\n",
    "What is the probability that the medium will obtain at least 1 correct match?\n",
    "    \n",
    "P(at least 1 hit) = P(1hit) + P(2hit) + P(3hit) + P(4hit) + P(5hit)\n",
    "P(no match) + P(at least 1 hit) = P(1hit) + P(2hit) + P(3hit) + P(4hit) + P(5hit) = 1\n",
    "P(at least 1 hit) = P(1hit) + P(2hit) + P(3hit) + P(4hit) + P(5hit) = 1 - P(no match)\n",
    "'''"
   ]
  },
  {
   "cell_type": "code",
   "execution_count": 319,
   "metadata": {
    "collapsed": false
   },
   "outputs": [
    {
     "name": "stdout",
     "output_type": "stream",
     "text": [
      "334 6666\n",
      "Hitting 2 times correct 4.77142857143\n"
     ]
    }
   ],
   "source": [
    "\n",
    "#Calculate the no hit probability \n",
    "#P(1 hit) = 0.19\n",
    "#P(2 hits) = 0.05\n",
    "\n",
    "#Ther are x ways to get 2 hits (5*4*3*2)/6 = 20    \n",
    "#number of ways in which you arrive at 2 hits --> 5!/(5-2)! = 120/6 = 20\n",
    "#two hits/ number of combinations of hits= 20/120 =  16% chance of hitting twice \n",
    "\n",
    "\n",
    "#There are 5! way to arrange the combination and there are 5 ways to arrive at 4 hits,\n",
    "# so 5 / 5! = P(4 hits)\n",
    "\n",
    "\n",
    "\n",
    "#-------------------------------------- P(2 hits) ----------------------------------------\n",
    "keys = [1,2,3,4,5]\n",
    "watches = ['A','B','C','D','E']\n",
    "\n",
    "counter_miss = 0\n",
    "counter_hit = 0\n",
    "\n",
    "for i in range(7000):\n",
    "    \n",
    "    choice1 = random.choice (keys)\n",
    "    choice2 = random.choice (watches)\n",
    "     \n",
    "#If they match once \n",
    "    if (choice1 == 1 and choice2 == 'A') or (choice1 == 2 and choice2 == 'B') or (choice1 == 3 and choice2 == 'C') or (choice1 == 4 and choice2 == 'D') or choice1 == 5 and choice2 == 'E':\n",
    "        choice3 =  random.choice (keys)\n",
    "        choice4 =  random.choice (watches)  \n",
    "        \n",
    "        #If the two choices are not the same \n",
    "        while choice3 == choice1 or choice2 == choice4:\n",
    "            choice3 =  random.choice (keys)\n",
    "            choice4 =  random.choice (watches) \n",
    "            \n",
    "        #if they hit 2 times\n",
    "        if (choice3 == 1 and choice4 == 'A') or (choice3 == 2 and choice4 == 'B') or (choice3 == 3 and choice4 == 'C') or (choice3 == 4 and choice4 == 'D') or choice3 == 5 and choice4 == 'E':\n",
    "                counter_hit +=1 \n",
    "        else:\n",
    "            counter_miss +=1\n",
    "            \n",
    "    else:\n",
    "        counter_miss +=1\n",
    "\n",
    "    \n",
    "print counter_hit, counter_miss\n",
    "print ('Hitting 2 times correct '+ str(float(counter_hit)/ 7000*100)) \n",
    "\n",
    "\n",
    "\n"
   ]
  },
  {
   "cell_type": "markdown",
   "metadata": {},
   "source": [
    "Sally is new to the area and listens to some friends discussing about another female friend.\n",
    "Sally knows that they are talking about either Alice or Bella but doesn’t know which. From previous conversations\n",
    "Sally knows some independent pieces of information: She’s 90% sure that Alice has a white car, but\n",
    "doesn’t know if Bella’s car is white or black. Similarly, she’s 90% sure that Bella likes sushi, but doesn’t know\n",
    "if Alice likes sushi. Sally hears from the conversation that the person being discussed hates sushi and drives\n",
    "a white car. What is the probability that the friends are talking about Alice? Assume maximal uncertainty @@\n",
    "in the absence of any knowledge of the probabilities."
   ]
  },
  {
   "cell_type": "code",
   "execution_count": null,
   "metadata": {
    "collapsed": true
   },
   "outputs": [],
   "source": [
    "A - Alice\n",
    "B - Bella\n",
    "W - white car\n",
    "\n",
    "P(Alice) = 0.5\n",
    "P(Bella) = 0.5\n",
    "\n",
    "P(W|Alice) = 0.9\n",
    "P(B|Alice) = 0.1\n",
    "\n",
    "P(W|Bella) = 0.5\n",
    "P(B|Bella) = 0.5\n",
    "\n",
    "P(S|Bella) = 0.9\n",
    "P(-S|Bella) = 0.1\n",
    "\n",
    "P(S|Alice) = 0.5\n",
    "P(-S|Alice) = 0.5 \n",
    "\n",
    "P(Alice| -S, W) = ?\n",
    "\n",
    "Bayes theorem: \n",
    "    \n",
    "P(A|B) = P(B|A)P(A) / P(B)\n",
    "\n",
    "--------------------------------------------------------------------------------------------------------\n",
    "\n",
    "\n",
    "P(Alice| -S, W) = p(car=white,sushi=false∣person=Alice)p(person=Alice)/ \n",
    "                               p(car=white,sushi=false)\n",
    "\n",
    "p(person=Alice) = 0.5\n",
    " \n",
    "p(car=white,sushi=false∣person=Alice) = ?   -- break it down --   p(W|Alice)*p(-S|Alice) = 0.9 * 0.5 = 0.45\n",
    "     \n",
    "p(car=white,sushi=false) = ?  -- unity --  p(W) + (-S) = (0.5 * 0.9) + (0.5 * 0.1) = 0.45 + 0.05 = 0.5\n",
    "\n",
    "\n",
    "\n",
    "0.45*0.5 / 0.5 = 0.45  --> 45% certainty that the person is Alice\n",
    "\n",
    "--------------------------------------------------------------------------------------------------------\n",
    "\n",
    "\n"
   ]
  }
 ],
 "metadata": {
  "anaconda-cloud": {},
  "kernelspec": {
   "display_name": "Python [Root]",
   "language": "python",
   "name": "Python [Root]"
  },
  "language_info": {
   "codemirror_mode": {
    "name": "ipython",
    "version": 2
   },
   "file_extension": ".py",
   "mimetype": "text/x-python",
   "name": "python",
   "nbconvert_exporter": "python",
   "pygments_lexer": "ipython2",
   "version": "2.7.12"
  }
 },
 "nbformat": 4,
 "nbformat_minor": 0
}
