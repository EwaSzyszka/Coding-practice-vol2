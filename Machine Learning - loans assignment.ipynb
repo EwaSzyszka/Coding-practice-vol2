{
 "cells": [
  {
   "cell_type": "code",
   "execution_count": 111,
   "metadata": {
    "collapsed": false
   },
   "outputs": [],
   "source": [
    "import pandas as pd\n",
    "pd.set_option('display.max_rows', 500) #changing the printing cap "
   ]
  },
  {
   "cell_type": "markdown",
   "metadata": {},
   "source": [
    "Rejected Loans"
   ]
  },
  {
   "cell_type": "code",
   "execution_count": 118,
   "metadata": {
    "collapsed": false,
    "scrolled": true
   },
   "outputs": [
    {
     "data": {
      "text/html": [
       "<div>\n",
       "<style>\n",
       "    .dataframe thead tr:only-child th {\n",
       "        text-align: right;\n",
       "    }\n",
       "\n",
       "    .dataframe thead th {\n",
       "        text-align: left;\n",
       "    }\n",
       "\n",
       "    .dataframe tbody tr th {\n",
       "        vertical-align: top;\n",
       "    }\n",
       "</style>\n",
       "<table border=\"1\" class=\"dataframe\">\n",
       "  <thead>\n",
       "    <tr style=\"text-align: right;\">\n",
       "      <th></th>\n",
       "      <th>Amount Requested</th>\n",
       "      <th>Application Date</th>\n",
       "      <th>Loan Title</th>\n",
       "      <th>Risk_Score</th>\n",
       "      <th>Debt-To-Income Ratio</th>\n",
       "      <th>Zip Code</th>\n",
       "      <th>State</th>\n",
       "      <th>Employment Length</th>\n",
       "    </tr>\n",
       "  </thead>\n",
       "  <tbody>\n",
       "    <tr>\n",
       "      <th>0</th>\n",
       "      <td>10000.0</td>\n",
       "      <td>2018-01-01</td>\n",
       "      <td>Other</td>\n",
       "      <td>NaN</td>\n",
       "      <td>100%</td>\n",
       "      <td>814xx</td>\n",
       "      <td>CO</td>\n",
       "      <td>&lt; 1 year</td>\n",
       "    </tr>\n",
       "    <tr>\n",
       "      <th>1</th>\n",
       "      <td>35000.0</td>\n",
       "      <td>2018-01-01</td>\n",
       "      <td>Credit card refinancing</td>\n",
       "      <td>NaN</td>\n",
       "      <td>100%</td>\n",
       "      <td>184xx</td>\n",
       "      <td>PA</td>\n",
       "      <td>&lt; 1 year</td>\n",
       "    </tr>\n",
       "    <tr>\n",
       "      <th>2</th>\n",
       "      <td>10000.0</td>\n",
       "      <td>2018-01-01</td>\n",
       "      <td>Credit card refinancing</td>\n",
       "      <td>NaN</td>\n",
       "      <td>100%</td>\n",
       "      <td>587xx</td>\n",
       "      <td>ND</td>\n",
       "      <td>&lt; 1 year</td>\n",
       "    </tr>\n",
       "    <tr>\n",
       "      <th>3</th>\n",
       "      <td>6000.0</td>\n",
       "      <td>2018-01-01</td>\n",
       "      <td>Credit card refinancing</td>\n",
       "      <td>NaN</td>\n",
       "      <td>100%</td>\n",
       "      <td>685xx</td>\n",
       "      <td>NE</td>\n",
       "      <td>&lt; 1 year</td>\n",
       "    </tr>\n",
       "    <tr>\n",
       "      <th>4</th>\n",
       "      <td>6000.0</td>\n",
       "      <td>2018-01-01</td>\n",
       "      <td>Debt consolidation</td>\n",
       "      <td>NaN</td>\n",
       "      <td>100%</td>\n",
       "      <td>333xx</td>\n",
       "      <td>FL</td>\n",
       "      <td>&lt; 1 year</td>\n",
       "    </tr>\n",
       "  </tbody>\n",
       "</table>\n",
       "</div>"
      ],
      "text/plain": [
       "   Amount Requested Application Date               Loan Title  Risk_Score  \\\n",
       "0           10000.0       2018-01-01                    Other         NaN   \n",
       "1           35000.0       2018-01-01  Credit card refinancing         NaN   \n",
       "2           10000.0       2018-01-01  Credit card refinancing         NaN   \n",
       "3            6000.0       2018-01-01  Credit card refinancing         NaN   \n",
       "4            6000.0       2018-01-01       Debt consolidation         NaN   \n",
       "\n",
       "  Debt-To-Income Ratio Zip Code State Employment Length  \n",
       "0                 100%    814xx    CO          < 1 year  \n",
       "1                 100%    184xx    PA          < 1 year  \n",
       "2                 100%    587xx    ND          < 1 year  \n",
       "3                 100%    685xx    NE          < 1 year  \n",
       "4                 100%    333xx    FL          < 1 year  "
      ]
     },
     "execution_count": 118,
     "metadata": {},
     "output_type": "execute_result"
    }
   ],
   "source": [
    "df = pd.read_csv('/Users/ewa_anna_szyszka/Desktop/ML-loans/RejectStats_2018Q1.csv')\n",
    "df.drop(['Policy Code'],axis = 1,inplace = True)\n",
    "df.head()"
   ]
  },
  {
   "cell_type": "markdown",
   "metadata": {},
   "source": [
    "Unique values of the data"
   ]
  },
  {
   "cell_type": "code",
   "execution_count": 144,
   "metadata": {
    "collapsed": false
   },
   "outputs": [
    {
     "data": {
      "text/plain": [
       "array(['100%', '5.4%', '29.32%', ..., '719.28%', '630.56%', '478.14%'],\n",
       "      dtype=object)"
      ]
     },
     "execution_count": 144,
     "metadata": {},
     "output_type": "execute_result"
    }
   ],
   "source": [
    "emp = df['Employment Length']\n",
    "zipc = df['Zip Code']\n",
    "risk = df['Risk_Score']\n",
    "request = df[\"Amount Requested\"]\n",
    "date = df[\"Application Date\"]\n",
    "loan = df[\"Loan Title\"]\n",
    "debt = df['Debt-To-Income Ratio']\n",
    "\n",
    "#When printed will give unique values for each column\n",
    "df.State.unique()\n",
    "emp.unique()\n",
    "zipc.unique()\n",
    "risk.unique()\n",
    "date.unique()\n",
    "loan.unique()\n",
    "debt.unique()"
   ]
  },
  {
   "cell_type": "markdown",
   "metadata": {},
   "source": [
    "Selecting variables for the model from the rejected loans dataset"
   ]
  },
  {
   "cell_type": "markdown",
   "metadata": {},
   "source": [
    "Step 1: Checking the missing values, if printed value != 1875134 it means that values are missing"
   ]
  },
  {
   "cell_type": "code",
   "execution_count": 131,
   "metadata": {
    "collapsed": false
   },
   "outputs": [
    {
     "data": {
      "text/plain": [
       "Amount Requested        1875134\n",
       "Application Date        1875134\n",
       "Loan Title              1875134\n",
       "Risk_Score               403720\n",
       "Debt-To-Income Ratio    1875134\n",
       "Zip Code                1875134\n",
       "State                   1875134\n",
       "Employment Length       1875134\n",
       "dtype: int64"
      ]
     },
     "execution_count": 131,
     "metadata": {},
     "output_type": "execute_result"
    }
   ],
   "source": [
    "df.count()"
   ]
  },
  {
   "cell_type": "markdown",
   "metadata": {},
   "source": [
    "Step 2: Checking the unique values"
   ]
  },
  {
   "cell_type": "code",
   "execution_count": 141,
   "metadata": {
    "collapsed": false
   },
   "outputs": [
    {
     "data": {
      "text/plain": [
       "array(['Other', 'Credit card refinancing', 'Debt consolidation',\n",
       "       'Medical expenses', 'Major purchase', 'Home buying',\n",
       "       'Moving and relocation', 'Business', 'Vacation', 'Car financing',\n",
       "       'Home improvement', 'Business Loan', 'Green loan',\n",
       "       'Learning and training', 'other'], dtype=object)"
      ]
     },
     "execution_count": 141,
     "metadata": {},
     "output_type": "execute_result"
    }
   ],
   "source": [
    "emp = df['Employment Length']\n",
    "zipc = df['Zip Code']\n",
    "risk = df['Risk_Score']\n",
    "request = df[\"Amount Requested\"]\n",
    "date = df[\"Application Date\"]\n",
    "loan = df[\"Loan Title\"]\n",
    "\n",
    "df.State.unique()\n",
    "emp.unique()\n",
    "zipc.unique()\n",
    "risk.unique()\n",
    "date.unique()\n",
    "loan.unique()"
   ]
  },
  {
   "cell_type": "markdown",
   "metadata": {},
   "source": [
    " \n",
    "\n",
    "categorical: \n",
    "\n",
    "numerical: Amount Requested, \n",
    "\n",
    "ordinal: Application Date\n",
    "\n",
    "    \n",
    "#feature scaling "
   ]
  },
  {
   "cell_type": "code",
   "execution_count": 130,
   "metadata": {
    "collapsed": false
   },
   "outputs": [
    {
     "name": "stdout",
     "output_type": "stream",
     "text": [
      "['CO' 'PA' 'ND' 'NE' 'FL' 'TN' 'NY' 'NV' 'IL' 'OH' 'MI' 'CA' 'NJ' 'CT'\n",
      " 'TX' 'KS' 'MO' 'MA' 'NC' 'SC' 'OK' 'IN' 'WI' 'MD' 'VT' 'VA' 'WA' 'WV'\n",
      " 'GA' 'LA' 'NM' 'MN' 'KY' 'ME' 'AZ' 'AL' 'RI' 'NH' 'OR' 'AR' 'HI' 'SD'\n",
      " 'MS' 'AK' 'DE' 'UT' 'WY' 'ID' 'MT' 'DC' 'IA'] ['< 1 year' '1 year' '5 years' 'n/a' '6 years' '4 years' '2 years'\n",
      " '10+ years' '8 years' '3 years' '9 years' '7 years']\n"
     ]
    }
   ],
   "source": []
  },
  {
   "cell_type": "code",
   "execution_count": 115,
   "metadata": {
    "collapsed": true
   },
   "outputs": [],
   "source": [
    "csv2 = df[['Amount Requested']].copy()"
   ]
  },
  {
   "cell_type": "code",
   "execution_count": 106,
   "metadata": {
    "collapsed": false
   },
   "outputs": [
    {
     "name": "stdout",
     "output_type": "stream",
     "text": [
      "8\n"
     ]
    },
    {
     "data": {
      "text/html": [
       "<div>\n",
       "<style>\n",
       "    .dataframe thead tr:only-child th {\n",
       "        text-align: right;\n",
       "    }\n",
       "\n",
       "    .dataframe thead th {\n",
       "        text-align: left;\n",
       "    }\n",
       "\n",
       "    .dataframe tbody tr th {\n",
       "        vertical-align: top;\n",
       "    }\n",
       "</style>\n",
       "<table border=\"1\" class=\"dataframe\">\n",
       "  <thead>\n",
       "    <tr style=\"text-align: right;\">\n",
       "      <th></th>\n",
       "      <th>id</th>\n",
       "      <th>member_id</th>\n",
       "      <th>loan_amnt</th>\n",
       "      <th>funded_amnt</th>\n",
       "      <th>funded_amnt_inv</th>\n",
       "      <th>term</th>\n",
       "      <th>int_rate</th>\n",
       "      <th>installment</th>\n",
       "      <th>grade</th>\n",
       "      <th>sub_grade</th>\n",
       "      <th>...</th>\n",
       "      <th>hardship_payoff_balance_amount</th>\n",
       "      <th>hardship_last_payment_amount</th>\n",
       "      <th>disbursement_method</th>\n",
       "      <th>debt_settlement_flag</th>\n",
       "      <th>debt_settlement_flag_date</th>\n",
       "      <th>settlement_status</th>\n",
       "      <th>settlement_date</th>\n",
       "      <th>settlement_amount</th>\n",
       "      <th>settlement_percentage</th>\n",
       "      <th>settlement_term</th>\n",
       "    </tr>\n",
       "  </thead>\n",
       "  <tbody>\n",
       "    <tr>\n",
       "      <th>0</th>\n",
       "      <td>NaN</td>\n",
       "      <td>NaN</td>\n",
       "      <td>3100.0</td>\n",
       "      <td>3100.0</td>\n",
       "      <td>3100.0</td>\n",
       "      <td>36 months</td>\n",
       "      <td>9.43%</td>\n",
       "      <td>99.21</td>\n",
       "      <td>B</td>\n",
       "      <td>B1</td>\n",
       "      <td>...</td>\n",
       "      <td>NaN</td>\n",
       "      <td>NaN</td>\n",
       "      <td>Cash</td>\n",
       "      <td>N</td>\n",
       "      <td>NaN</td>\n",
       "      <td>NaN</td>\n",
       "      <td>NaN</td>\n",
       "      <td>NaN</td>\n",
       "      <td>NaN</td>\n",
       "      <td>NaN</td>\n",
       "    </tr>\n",
       "    <tr>\n",
       "      <th>1</th>\n",
       "      <td>NaN</td>\n",
       "      <td>NaN</td>\n",
       "      <td>12000.0</td>\n",
       "      <td>12000.0</td>\n",
       "      <td>12000.0</td>\n",
       "      <td>36 months</td>\n",
       "      <td>6.07%</td>\n",
       "      <td>365.45</td>\n",
       "      <td>A</td>\n",
       "      <td>A2</td>\n",
       "      <td>...</td>\n",
       "      <td>NaN</td>\n",
       "      <td>NaN</td>\n",
       "      <td>Cash</td>\n",
       "      <td>N</td>\n",
       "      <td>NaN</td>\n",
       "      <td>NaN</td>\n",
       "      <td>NaN</td>\n",
       "      <td>NaN</td>\n",
       "      <td>NaN</td>\n",
       "      <td>NaN</td>\n",
       "    </tr>\n",
       "    <tr>\n",
       "      <th>2</th>\n",
       "      <td>NaN</td>\n",
       "      <td>NaN</td>\n",
       "      <td>35000.0</td>\n",
       "      <td>35000.0</td>\n",
       "      <td>35000.0</td>\n",
       "      <td>36 months</td>\n",
       "      <td>12.61%</td>\n",
       "      <td>1172.73</td>\n",
       "      <td>C</td>\n",
       "      <td>C1</td>\n",
       "      <td>...</td>\n",
       "      <td>NaN</td>\n",
       "      <td>NaN</td>\n",
       "      <td>Cash</td>\n",
       "      <td>N</td>\n",
       "      <td>NaN</td>\n",
       "      <td>NaN</td>\n",
       "      <td>NaN</td>\n",
       "      <td>NaN</td>\n",
       "      <td>NaN</td>\n",
       "      <td>NaN</td>\n",
       "    </tr>\n",
       "    <tr>\n",
       "      <th>3</th>\n",
       "      <td>NaN</td>\n",
       "      <td>NaN</td>\n",
       "      <td>6025.0</td>\n",
       "      <td>6025.0</td>\n",
       "      <td>6025.0</td>\n",
       "      <td>36 months</td>\n",
       "      <td>9.43%</td>\n",
       "      <td>192.81</td>\n",
       "      <td>B</td>\n",
       "      <td>B1</td>\n",
       "      <td>...</td>\n",
       "      <td>NaN</td>\n",
       "      <td>NaN</td>\n",
       "      <td>Cash</td>\n",
       "      <td>N</td>\n",
       "      <td>NaN</td>\n",
       "      <td>NaN</td>\n",
       "      <td>NaN</td>\n",
       "      <td>NaN</td>\n",
       "      <td>NaN</td>\n",
       "      <td>NaN</td>\n",
       "    </tr>\n",
       "    <tr>\n",
       "      <th>4</th>\n",
       "      <td>NaN</td>\n",
       "      <td>NaN</td>\n",
       "      <td>10000.0</td>\n",
       "      <td>10000.0</td>\n",
       "      <td>10000.0</td>\n",
       "      <td>36 months</td>\n",
       "      <td>6.71%</td>\n",
       "      <td>307.45</td>\n",
       "      <td>A</td>\n",
       "      <td>A3</td>\n",
       "      <td>...</td>\n",
       "      <td>NaN</td>\n",
       "      <td>NaN</td>\n",
       "      <td>Cash</td>\n",
       "      <td>N</td>\n",
       "      <td>NaN</td>\n",
       "      <td>NaN</td>\n",
       "      <td>NaN</td>\n",
       "      <td>NaN</td>\n",
       "      <td>NaN</td>\n",
       "      <td>NaN</td>\n",
       "    </tr>\n",
       "  </tbody>\n",
       "</table>\n",
       "<p>5 rows × 145 columns</p>\n",
       "</div>"
      ],
      "text/plain": [
       "    id  member_id  loan_amnt  funded_amnt  funded_amnt_inv        term  \\\n",
       "0  NaN        NaN     3100.0       3100.0           3100.0   36 months   \n",
       "1  NaN        NaN    12000.0      12000.0          12000.0   36 months   \n",
       "2  NaN        NaN    35000.0      35000.0          35000.0   36 months   \n",
       "3  NaN        NaN     6025.0       6025.0           6025.0   36 months   \n",
       "4  NaN        NaN    10000.0      10000.0          10000.0   36 months   \n",
       "\n",
       "  int_rate  installment grade sub_grade       ...         \\\n",
       "0    9.43%        99.21     B        B1       ...          \n",
       "1    6.07%       365.45     A        A2       ...          \n",
       "2   12.61%      1172.73     C        C1       ...          \n",
       "3    9.43%       192.81     B        B1       ...          \n",
       "4    6.71%       307.45     A        A3       ...          \n",
       "\n",
       "  hardship_payoff_balance_amount hardship_last_payment_amount  \\\n",
       "0                            NaN                          NaN   \n",
       "1                            NaN                          NaN   \n",
       "2                            NaN                          NaN   \n",
       "3                            NaN                          NaN   \n",
       "4                            NaN                          NaN   \n",
       "\n",
       "  disbursement_method  debt_settlement_flag debt_settlement_flag_date  \\\n",
       "0                Cash                     N                       NaN   \n",
       "1                Cash                     N                       NaN   \n",
       "2                Cash                     N                       NaN   \n",
       "3                Cash                     N                       NaN   \n",
       "4                Cash                     N                       NaN   \n",
       "\n",
       "  settlement_status settlement_date settlement_amount  settlement_percentage  \\\n",
       "0               NaN             NaN               NaN                    NaN   \n",
       "1               NaN             NaN               NaN                    NaN   \n",
       "2               NaN             NaN               NaN                    NaN   \n",
       "3               NaN             NaN               NaN                    NaN   \n",
       "4               NaN             NaN               NaN                    NaN   \n",
       "\n",
       "   settlement_term  \n",
       "0              NaN  \n",
       "1              NaN  \n",
       "2              NaN  \n",
       "3              NaN  \n",
       "4              NaN  \n",
       "\n",
       "[5 rows x 145 columns]"
      ]
     },
     "execution_count": 106,
     "metadata": {},
     "output_type": "execute_result"
    }
   ],
   "source": [
    "df2 = pd.read_csv('/Users/ewa_anna_szyszka/Desktop/ML-loans/LoanStats_2018Q1.csv')\n",
    "\n",
    "print len(df.columns)\n",
    "csv3 = df2[['loan_amnt','int_rate','grade']].copy()\n",
    "df2.head()"
   ]
  },
  {
   "cell_type": "code",
   "execution_count": 109,
   "metadata": {
    "collapsed": false
   },
   "outputs": [
    {
     "name": "stdout",
     "output_type": "stream",
     "text": [
      "id                                                 2\n",
      "member_id                                          0\n",
      "loan_amnt                                     107864\n",
      "funded_amnt                                   107864\n",
      "funded_amnt_inv                               107864\n",
      "term                                          107864\n",
      "int_rate                                      107864\n",
      "installment                                   107864\n",
      "grade                                         107864\n",
      "sub_grade                                     107864\n",
      "emp_title                                      98251\n",
      "emp_length                                    107864\n",
      "home_ownership                                107864\n",
      "annual_inc                                    107864\n",
      "verification_status                           107864\n",
      "issue_d                                       107864\n",
      "loan_status                                   107864\n",
      "pymnt_plan                                    107864\n",
      "url                                                0\n",
      "desc                                               0\n",
      "purpose                                       107864\n",
      "title                                         107864\n",
      "zip_code                                      107864\n",
      "addr_state                                    107864\n",
      "dti                                           107602\n",
      "delinq_2yrs                                   107864\n",
      "earliest_cr_line                              107864\n",
      "inq_last_6mths                                107864\n",
      "mths_since_last_delinq                         47169\n",
      "mths_since_last_record                         15269\n",
      "open_acc                                      107864\n",
      "pub_rec                                       107864\n",
      "revol_bal                                     107864\n",
      "revol_util                                    107715\n",
      "total_acc                                     107864\n",
      "initial_list_status                           107864\n",
      "out_prncp                                     107864\n",
      "out_prncp_inv                                 107864\n",
      "total_pymnt                                   107864\n",
      "total_pymnt_inv                               107864\n",
      "total_rec_prncp                               107864\n",
      "total_rec_int                                 107864\n",
      "total_rec_late_fee                            107864\n",
      "recoveries                                    107864\n",
      "collection_recovery_fee                       107864\n",
      "last_pymnt_d                                  107714\n",
      "last_pymnt_amnt                               107864\n",
      "next_pymnt_d                                   98024\n",
      "last_credit_pull_d                            107863\n",
      "collections_12_mths_ex_med                    107864\n",
      "mths_since_last_major_derog                    24761\n",
      "policy_code                                   107864\n",
      "application_type                              107864\n",
      "annual_inc_joint                               16331\n",
      "dti_joint                                      16331\n",
      "verification_status_joint                      16017\n",
      "acc_now_delinq                                107864\n",
      "tot_coll_amt                                  107864\n",
      "tot_cur_bal                                   107864\n",
      "open_acc_6m                                   107864\n",
      "open_act_il                                   107864\n",
      "open_il_12m                                   107864\n",
      "open_il_24m                                   107864\n",
      "mths_since_rcnt_il                            103576\n",
      "total_bal_il                                  107864\n",
      "il_util                                        89880\n",
      "open_rv_12m                                   107864\n",
      "open_rv_24m                                   107864\n",
      "max_bal_bc                                    107864\n",
      "all_util                                      107836\n",
      "total_rev_hi_lim                              107864\n",
      "inq_fi                                        107864\n",
      "total_cu_tl                                   107864\n",
      "inq_last_12m                                  107864\n",
      "acc_open_past_24mths                          107864\n",
      "avg_cur_bal                                   107854\n",
      "bc_open_to_buy                                106354\n",
      "bc_util                                       106303\n",
      "chargeoff_within_12_mths                      107864\n",
      "delinq_amnt                                   107864\n",
      "mo_sin_old_il_acct                            103576\n",
      "mo_sin_old_rev_tl_op                          107864\n",
      "mo_sin_rcnt_rev_tl_op                         107864\n",
      "mo_sin_rcnt_tl                                107864\n",
      "mort_acc                                      107864\n",
      "mths_since_recent_bc                          106443\n",
      "mths_since_recent_bc_dlq                       21298\n",
      "mths_since_recent_inq                          94216\n",
      "mths_since_recent_revol_delinq                 30826\n",
      "num_accts_ever_120_pd                         107864\n",
      "num_actv_bc_tl                                107864\n",
      "num_actv_rev_tl                               107864\n",
      "num_bc_sats                                   107864\n",
      "num_bc_tl                                     107864\n",
      "num_il_tl                                     107864\n",
      "num_op_rev_tl                                 107864\n",
      "num_rev_accts                                 107864\n",
      "num_rev_tl_bal_gt_0                           107864\n",
      "num_sats                                      107864\n",
      "num_tl_120dpd_2m                              104356\n",
      "num_tl_30dpd                                  107864\n",
      "num_tl_90g_dpd_24m                            107864\n",
      "num_tl_op_past_12m                            107864\n",
      "pct_tl_nvr_dlq                                107863\n",
      "percent_bc_gt_75                              106350\n",
      "pub_rec_bankruptcies                          107864\n",
      "tax_liens                                     107864\n",
      "tot_hi_cred_lim                               107864\n",
      "total_bal_ex_mort                             107864\n",
      "total_bc_limit                                107864\n",
      "total_il_high_credit_limit                    107864\n",
      "revol_bal_joint                                16331\n",
      "sec_app_earliest_cr_line                       16331\n",
      "sec_app_inq_last_6mths                         16331\n",
      "sec_app_mort_acc                               16331\n",
      "sec_app_open_acc                               16331\n",
      "sec_app_revol_util                             16021\n",
      "sec_app_open_act_il                            16331\n",
      "sec_app_num_rev_accts                          16331\n",
      "sec_app_chargeoff_within_12_mths               16331\n",
      "sec_app_collections_12_mths_ex_med             16331\n",
      "sec_app_mths_since_last_major_derog             5427\n",
      "hardship_flag                                 107864\n",
      "hardship_type                                      7\n",
      "hardship_reason                                    7\n",
      "hardship_status                                    7\n",
      "deferral_term                                      7\n",
      "hardship_amount                                    7\n",
      "hardship_start_date                                7\n",
      "hardship_end_date                                  7\n",
      "payment_plan_start_date                            7\n",
      "hardship_length                                    7\n",
      "hardship_dpd                                       7\n",
      "hardship_loan_status                               7\n",
      "orig_projected_additional_accrued_interest         7\n",
      "hardship_payoff_balance_amount                     7\n",
      "hardship_last_payment_amount                       7\n",
      "disbursement_method                           107864\n",
      "debt_settlement_flag                          107864\n",
      "debt_settlement_flag_date                         32\n",
      "settlement_status                                 32\n",
      "settlement_date                                   32\n",
      "settlement_amount                                 32\n",
      "settlement_percentage                             32\n",
      "settlement_term                                   32\n",
      "dtype: int64\n"
     ]
    }
   ],
   "source": [
    "#checking the missing values, if the printed number != 107864 it means that values are missing\n",
    "print df2.count()"
   ]
  },
  {
   "cell_type": "code",
   "execution_count": 98,
   "metadata": {
    "collapsed": false
   },
   "outputs": [
    {
     "data": {
      "text/plain": [
       "Amount Requested    1875134\n",
       "dtype: int64"
      ]
     },
     "execution_count": 98,
     "metadata": {},
     "output_type": "execute_result"
    }
   ],
   "source": [
    "csv2.head()\n"
   ]
  },
  {
   "cell_type": "code",
   "execution_count": 101,
   "metadata": {
    "collapsed": false
   },
   "outputs": [
    {
     "name": "stdout",
     "output_type": "stream",
     "text": [
      "   loan_amnt int_rate grade\n",
      "0     3100.0    9.43%     B\n",
      "1    12000.0    6.07%     A\n",
      "2    35000.0   12.61%     C\n",
      "3     6025.0    9.43%     B\n",
      "4    10000.0    6.71%     A\n",
      "loan_amnt    107864\n",
      "int_rate     107864\n",
      "grade        107864\n",
      "dtype: int64\n"
     ]
    }
   ],
   "source": [
    "print csv3.head()\n",
    "print csv3.count()"
   ]
  }
 ],
 "metadata": {
  "kernelspec": {
   "display_name": "Python [Root]",
   "language": "python",
   "name": "Python [Root]"
  },
  "language_info": {
   "codemirror_mode": {
    "name": "ipython",
    "version": 2
   },
   "file_extension": ".py",
   "mimetype": "text/x-python",
   "name": "python",
   "nbconvert_exporter": "python",
   "pygments_lexer": "ipython2",
   "version": "2.7.12"
  }
 },
 "nbformat": 4,
 "nbformat_minor": 0
}
