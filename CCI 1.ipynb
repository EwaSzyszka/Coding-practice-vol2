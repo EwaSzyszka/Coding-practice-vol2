{
 "cells": [
  {
   "cell_type": "markdown",
   "metadata": {},
   "source": [
    "Love letter problem\n",
    "\n",
    "You have written an anonymous love letter and you don’t want your handwriting to be recognized. Since you don’t have a printer within reach, you are trying to write this letter by copying and pasting characters from a newspaper.\n",
    "\n",
    "Given a string L representing the letter and a string N representing the newspaper, return true if the L can be written entirely from N and false otherwise. The letter includes only ascii characters."
   ]
  },
  {
   "cell_type": "code",
   "execution_count": 56,
   "metadata": {
    "collapsed": false
   },
   "outputs": [
    {
     "name": "stdout",
     "output_type": "stream",
     "text": [
      "[None, None, None, None, None, None, None, None, None, None]\n",
      "[None, None, None, None, None, None, None, None, None, None, 3]\n",
      "[None, None, None, None, None, None, None, None, None, None, 3, 2]\n"
     ]
    }
   ],
   "source": [
    "#hash table\n",
    "hash_table = [None] * 10\n",
    "print (hash_table) \n",
    "\n",
    "#hash function\n",
    "def hashing_func(key):\n",
    "    return key % len(hash_table)\n",
    "hashing_func(26)\n",
    "\n",
    "#inserting data into hash table \n",
    "def insertion(hash_table_, hash_function_output,key_):\n",
    "    hash_table_.insert(key_, hash_function_output)\n",
    "    print hash_table_\n",
    "    \n",
    "insertion(hash_table,hashing_func(23),23)\n",
    "insertion(hash_table,hashing_func(233),233)"
   ]
  },
  {
   "cell_type": "code",
   "execution_count": 58,
   "metadata": {
    "collapsed": false
   },
   "outputs": [
    {
     "name": "stdout",
     "output_type": "stream",
     "text": [
      "[None, None, None, None, None, 'e', None, None, None, None, None, None, None, None, None, None, None, None, None, None, None, None, None, None, None, None]\n",
      " \n",
      "[None, None, None, None, None, 'e', None, None, None, None, None, None, None, None, None, None, None, None, None, None, None, None, None, None, None, 'z', None]\n",
      " \n",
      "[None, None, None, None, 'd', None, 'e', None, None, None, None, None, None, None, None, None, None, None, None, None, None, None, None, None, None, None, 'z', None]\n",
      " \n",
      "[None, None, None, None, 'd', None, 'e', None, None, None, None, None, None, None, None, None, None, None, None, None, 't', None, None, None, None, None, None, 'z', None]\n",
      " \n",
      "[None, None, None, None, 'd', None, 'e', None, None, None, None, None, 'l', None, None, None, None, None, None, None, None, 't', None, None, None, None, None, None, 'z', None]\n",
      " \n",
      "[None, None, None, None, 'd', None, 'e', None, None, None, None, None, 'l', None, None, None, None, None, None, None, None, 't', None, 'x', None, None, None, None, None, 'z', None]\n",
      " \n",
      "[None, None, None, None, 'd', None, 'e', None, None, None, None, None, 'l', None, None, None, 'p', None, None, None, None, None, 't', None, 'x', None, None, None, None, None, 'z', None]\n",
      " \n",
      "e\n",
      "True --> The letter that you are looking for is in this newspaper \n"
     ]
    }
   ],
   "source": [
    "#Here I am creating a hash table with all newspaper letters \n",
    "#Next I check for collisions, if there is collision I return true,\n",
    "#which means that the letter that we are looking for can be extracted \n",
    "#from the newspaper\n",
    "\n",
    "\n",
    "#hash table\n",
    "hash_table = [None] * 25 \n",
    "\n",
    "#hash function\n",
    "def hashing_func(key):\n",
    "    \n",
    "#simplified ascii table\n",
    "    thisdict = {\n",
    "  'a': 1,\n",
    "  \"b\": 2,\n",
    "  \"c\": 3,\n",
    "  'd': 4,\n",
    "  \"e\": 5,\n",
    "  \"f\": 6,\n",
    "  'g': 7,\n",
    "  \"h\": 8,\n",
    "  \"i\": 9,\n",
    "  'j': 10,\n",
    "  \"k\": 11,\n",
    "  \"l\": 12,\n",
    "  'm': 13,\n",
    "  \"n\": 14,\n",
    "  \"o\": 15,\n",
    "  'p': 16,\n",
    "  \"q\": 17,\n",
    "  \"r\": 18,\n",
    "  \"s\": 19,\n",
    "  't': 20,\n",
    "  \"u\": 21,\n",
    "  \"w\": 22,\n",
    "  'x': 23,\n",
    "  \"y\": 24,\n",
    "  \"z\": 25,\n",
    "}\n",
    "\n",
    "    #turn key, which is a letter into a value \n",
    "    numbered_letter = thisdict[key]\n",
    "    return numbered_letter % len(hash_table)\n",
    "\n",
    "#inserting data into hash table \n",
    "def insertion(hash_table_, hash_function_output,key_):\n",
    "    hash_table_.insert(key_, hash_function_output)\n",
    "    print hash_table_\n",
    "    \n",
    "#inserting values of the newspaper letters into the hash table\n",
    "N = ['e','z','d','t','l','x','p']\n",
    "\n",
    "for i in range(len(N)):\n",
    "    insertion(hash_table,N[i],hashing_func(N[i]))\n",
    "    print (' ')\n",
    "    \n",
    "#if collision return true \n",
    "\n",
    "if raw_input() in hash_table:\n",
    "    print ('True --> The letter that you are looking for is in this newspaper ')\n"
   ]
  },
  {
   "cell_type": "markdown",
   "metadata": {},
   "source": [
    "Array of arrays problem\n",
    "\n",
    "Given an array of integers, you’re asked to calculate for each index i the product of all integers except the integer at that index and return the itteration of all possible such combination for an array."
   ]
  },
  {
   "cell_type": "code",
   "execution_count": 30,
   "metadata": {
    "collapsed": false
   },
   "outputs": [
    {
     "name": "stdout",
     "output_type": "stream",
     "text": [
      "120\n",
      "60\n",
      "40\n",
      "30\n",
      "24\n"
     ]
    }
   ],
   "source": [
    "import numpy as np\n",
    "\n",
    "array = [1,2,3,4,5]\n",
    "\n",
    "#multiply appart from the index\n",
    "def multiplicator(index, array):\n",
    "    array = [1,2,3,4,5]\n",
    "    array.pop(index)\n",
    "    for i in range(len(array)):\n",
    "        product = np.prod(array)\n",
    "    print product\n",
    "        \n",
    "for i in range(len(array)):\n",
    "    multiplicator(i,array)"
   ]
  }
 ],
 "metadata": {
  "kernelspec": {
   "display_name": "Python [Root]",
   "language": "python",
   "name": "Python [Root]"
  },
  "language_info": {
   "codemirror_mode": {
    "name": "ipython",
    "version": 2
   },
   "file_extension": ".py",
   "mimetype": "text/x-python",
   "name": "python",
   "nbconvert_exporter": "python",
   "pygments_lexer": "ipython2",
   "version": "2.7.12"
  }
 },
 "nbformat": 4,
 "nbformat_minor": 0
}
