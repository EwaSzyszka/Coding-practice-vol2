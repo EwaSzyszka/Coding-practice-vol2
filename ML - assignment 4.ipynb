{
 "cells": [
  {
   "cell_type": "code",
   "execution_count": 1,
   "metadata": {
    "collapsed": true
   },
   "outputs": [],
   "source": [
    "import numpy as np\n",
    "import os\n",
    "import struct\n",
    "from matplotlib import pyplot\n",
    "import matplotlib as plt\n",
    "import matplotlib.pyplot as plt\n",
    "import time\n",
    "import datetime as dt\n",
    "import sklearn\n",
    "\n",
    "# Import datasets, classifiers and performance metrics\n",
    "from sklearn import datasets, svm, metrics\n",
    "#fetch original mnist dataset\n",
    "from sklearn.datasets import fetch_mldata\n",
    "\n",
    "# Import datasets, classifiers and performance metrics\n",
    "from sklearn import datasets, svm, pipeline\n",
    "from sklearn.kernel_approximation import (RBFSampler, Nystroem)\n",
    "from sklearn.decomposition import PCA"
   ]
  },
  {
   "cell_type": "code",
   "execution_count": 2,
   "metadata": {
    "collapsed": true
   },
   "outputs": [],
   "source": [
    "def load_MNIST(dataset = \"training\", path = \".\", digits=[]):\n",
    "    \"\"\"\n",
    "    Python function for importing the MNIST data set.  It returns two Numpy array\n",
    "    one with flattened feature vectors and one with the label of the digit.\n",
    "    \"\"\"\n",
    "\n",
    "    if dataset is \"training\":\n",
    "        fname_img = os.path.join(path, 'train-images-idx3-ubyte')\n",
    "        fname_lbl = os.path.join(path, 'train-labels-idx1-ubyte')\n",
    "    elif dataset is \"testing\":\n",
    "        fname_img = os.path.join(path, 't10k-images-idx3-ubyte')\n",
    "        fname_lbl = os.path.join(path, 't10k-labels-idx1-ubyte')\n",
    "    else:\n",
    "        raise ValueError(\"dataset must be 'testing' or 'training'\")\n",
    "        \n",
    "    with open(fname_lbl, 'rb') as flbl:\n",
    "        magic, num = struct.unpack(\">II\", flbl.read(8))\n",
    "        lbl = np.fromfile(flbl, dtype=np.int8)\n",
    "\n",
    "    with open(fname_img, 'rb') as fimg:\n",
    "        magic, num, rows, cols = struct.unpack(\">IIII\", fimg.read(16))\n",
    "        img = np.fromfile(fimg, dtype=np.uint8).reshape(len(lbl), rows, cols)\n",
    "    \n",
    "    get_img = lambda idx: (lbl[idx], img[idx])\n",
    "\n",
    "    data = []\n",
    "    for i in range(len(lbl)):\n",
    "        data.append(get_img(i))\n",
    "    \n",
    "    X = []\n",
    "    y = []\n",
    "\n",
    "    for digit, data in filter(lambda x: x[0] in digits, data):\n",
    "        X.append(data.flatten())\n",
    "        y.append(digit)\n",
    "        \n",
    "    return np.array(X), np.array(y)"
   ]
  },
  {
   "cell_type": "code",
   "execution_count": 3,
   "metadata": {
    "collapsed": false
   },
   "outputs": [],
   "source": [
    "#I chose two numbers 1 and 9 \n",
    "two_numbers = [1, 9]\n",
    "\n",
    "#X_train is data and y_train are the labels for training data\n",
    "X_train, y_train  =load_MNIST(dataset = \"training\", path = \".\", digits=two_numbers)\n",
    "\n",
    "#X_test is data and y_test are the labels for test data\n",
    "X_test, y_test  = load_MNIST(dataset = \"testing\", path = \".\", digits=two_numbers)"
   ]
  },
  {
   "cell_type": "code",
   "execution_count": 4,
   "metadata": {
    "collapsed": false
   },
   "outputs": [
    {
     "data": {
      "image/png": "[encoded data removed]",
      "text/plain": [
       "<matplotlib.figure.Figure at 0x1189e7c50>"
      ]
     },
     "metadata": {},
     "output_type": "display_data"
    }
   ],
   "source": [
    "#plotting some images\n",
    "%matplotlib inline\n",
    "fig = pyplot.figure()\n",
    "ax = fig.add_subplot(2,1,1)\n",
    "imgplot = ax.imshow(X_train[1].reshape((28, 28)))\n",
    "pyplot.axis('off')\n",
    "\n",
    "ax2=  fig.add_subplot(2,1,2)\n",
    "imgplot = ax2.imshow(X_train[0].reshape((28, 28)))\n",
    "pyplot.axis('off')\n",
    "pyplot.show()"
   ]
  },
  {
   "cell_type": "code",
   "execution_count": null,
   "metadata": {
    "collapsed": true
   },
   "outputs": [],
   "source": [
    "#SVC using linear kernel "
   ]
  },
  {
   "cell_type": "code",
   "execution_count": 10,
   "metadata": {
    "collapsed": false
   },
   "outputs": [],
   "source": [
    "kernel_svm = svm.SVC(gamma=.2) #rbf used by default\n",
    "linear_svm = svm.LinearSVC()\n",
    "\n",
    "# create pipeline from kernel approximation and linear svm\n",
    "\n",
    "feature_map_fourier = RBFSampler(gamma=.2, random_state=1)\n",
    "feature_map_nystroem = Nystroem(gamma=.2, random_state=1)\n",
    "\n",
    "fourier_approx_svm = pipeline.Pipeline([(\"feature_map\", feature_map_fourier),\n",
    "                                        (\"svm\", svm.LinearSVC())])\n",
    "\n",
    "nystroem_approx_svm = pipeline.Pipeline([(\"feature_map\", feature_map_nystroem),\n",
    "                                        (\"svm\", svm.LinearSVC())])"
   ]
  },
  {
   "cell_type": "code",
   "execution_count": 6,
   "metadata": {
    "collapsed": false
   },
   "outputs": [
    {
     "name": "stdout",
     "output_type": "stream",
     "text": [
      "Start linear svm learning at 2018-10-28 13:22:43.877883\n",
      "End linear svm learning at 2018-10-28 13:22:44.078806\n",
      "Elapsed learning 0:00:00.200923\n"
     ]
    },
    {
     "name": "stderr",
     "output_type": "stream",
     "text": [
      "/Users/ewa_anna_szyszka/anaconda/lib/python2.7/site-packages/sklearn/svm/base.py:922: ConvergenceWarning: Liblinear failed to converge, increase the number of iterations.\n",
      "  \"the number of iterations.\", ConvergenceWarning)\n"
     ]
    }
   ],
   "source": [
    "import datetime as dt\n",
    "\n",
    "linear_svm_start_time = dt.datetime.now()\n",
    "print 'Start linear svm learning at {}'.format(str(linear_svm_start_time))\n",
    "linear_svm.fit(X_train, y_train)\n",
    "linear_svm_end_time = dt.datetime.now()\n",
    "elapsed_time = linear_svm_end_time - linear_svm_start_time\n",
    "print 'End linear svm learning at {}'.format(str(linear_svm_end_time))\n",
    "print 'Elapsed learning {}'.format(str(elapsed_time))"
   ]
  },
  {
   "cell_type": "code",
   "execution_count": 11,
   "metadata": {
    "collapsed": false
   },
   "outputs": [
    {
     "name": "stdout",
     "output_type": "stream",
     "text": [
      "[1 1 9 ... 1 9 1]\n"
     ]
    }
   ],
   "source": [
    "import pandas as pd\n",
    "# Create a classifier: a support vector classifier\n",
    "classifier = svm.SVC(C=200,gamma=0.01,kernel='linear',cache_size=8000,probability=False)\n",
    "#classifier = svm.SVC()\n",
    "\n",
    "# We learn the digits on the first half of the digits\n",
    "classifier.fit(X_train, y_train)\n",
    "\n",
    "# Now predict the value of the digit on the second half:\n",
    "#expected = label_test\n",
    "predicted = classifier.predict(X_test)\n",
    "\n",
    "#print(expected)\n",
    "df=pd.DataFrame(predicted)\n",
    "df.index+=1\n",
    "df.index.name='ImageId'\n",
    "df.columns=['Label']\n",
    "df.to_csv('results.csv',header=True)\n",
    "print(predicted)"
   ]
  },
  {
   "cell_type": "code",
   "execution_count": null,
   "metadata": {
    "collapsed": true
   },
   "outputs": [],
   "source": [
    "#error rates on the testing dataset for linear kernel\n",
    "classifier.score(X_test, y_test)"
   ]
  },
  {
   "cell_type": "code",
   "execution_count": null,
   "metadata": {
    "collapsed": true
   },
   "outputs": [],
   "source": [
    "#SVC using rbf kernel "
   ]
  },
  {
   "cell_type": "code",
   "execution_count": 12,
   "metadata": {
    "collapsed": false
   },
   "outputs": [
    {
     "name": "stdout",
     "output_type": "stream",
     "text": [
      "Start kernel svm learning at 2018-10-28 13:37:06.796911\n",
      "End kernel svm learning at 2018-10-28 13:42:08.961942\n",
      "Elapsed learning 0:05:02.165031\n",
      "Prediction takes 0:00:19.727747\n"
     ]
    }
   ],
   "source": [
    "kernel_svm_start_time = dt.datetime.now()\n",
    "print 'Start kernel svm learning at {}'.format(str(kernel_svm_start_time))\n",
    "kernel_svm.fit(X_train, y_train)\n",
    "kernel_svm_end_time = dt.datetime.now()\n",
    "elapsed_time = kernel_svm_end_time - kernel_svm_start_time\n",
    "print 'End kernel svm learning at {}'.format(str(kernel_svm_end_time))\n",
    "print 'Elapsed learning {}'.format(str(elapsed_time))\n",
    "\n",
    "kernel_svm_start_time = dt.datetime.now()\n",
    "kernel_svm_score = kernel_svm.score(X_test, y_test)\n",
    "elapsed_time = dt.datetime.now() - kernel_svm_start_time\n",
    "print 'Prediction takes {}'.format(str(elapsed_time))"
   ]
  },
  {
   "cell_type": "code",
   "execution_count": 16,
   "metadata": {
    "collapsed": false
   },
   "outputs": [
    {
     "name": "stdout",
     "output_type": "stream",
     "text": [
      "[1 1 1 ... 1 1 1]\n"
     ]
    }
   ],
   "source": [
    "import pandas as pd\n",
    "# Create a classifier: a support vector classifier\n",
    "classifier = svm.SVC(C=200,kernel='rbf',gamma=0.01,cache_size=8000,probability=False)\n",
    "#classifier = svm.SVC()\n",
    "\n",
    "# We learn the digits on the first half of the digits\n",
    "classifier.fit(X_train, y_train)\n",
    "\n",
    "# Now predict the value of the digit on the second half:\n",
    "#expected = label_test\n",
    "predicted = classifier.predict(X_test)\n",
    "\n",
    "#print(expected)\n",
    "df=pd.DataFrame(predicted)\n",
    "df.index+=1\n",
    "df.index.name='ImageId'\n",
    "df.columns=['Label']\n",
    "df.to_csv('results.csv',header=True)\n",
    "print(predicted)"
   ]
  },
  {
   "cell_type": "code",
   "execution_count": null,
   "metadata": {
    "collapsed": true
   },
   "outputs": [],
   "source": [
    "#error rates on the testing dataset for rbf kernel\n",
    "classifier.score(X_test, y_test)"
   ]
  },
  {
   "cell_type": "code",
   "execution_count": null,
   "metadata": {
    "collapsed": true
   },
   "outputs": [],
   "source": [
    "#SVC using poly kernel "
   ]
  },
  {
   "cell_type": "code",
   "execution_count": 18,
   "metadata": {
    "collapsed": false
   },
   "outputs": [
    {
     "name": "stdout",
     "output_type": "stream",
     "text": [
      "Start kernel svm learning at 2018-10-28 13:54:03.913777\n",
      "End kernel svm learning at 2018-10-28 13:54:06.842008\n",
      "Elapsed learning 0:00:02.928231\n",
      "Prediction takes 0:00:00.453233\n"
     ]
    }
   ],
   "source": [
    "kernelpoly_svm = svm.SVC(kernel='poly', gamma = 'auto')\n",
    "\n",
    "kernelpoly_svm_start_time = dt.datetime.now()\n",
    "print 'Start kernel svm learning at {}'.format(str(kernelpoly_svm_start_time))\n",
    "kernelpoly_svm.fit(X_train, y_train)\n",
    "kernelpoly_svm_end_time = dt.datetime.now()\n",
    "elapsed_time = kernelpoly_svm_end_time - kernelpoly_svm_start_time\n",
    "print 'End kernel svm learning at {}'.format(str(kernelpoly_svm_end_time))\n",
    "print 'Elapsed learning {}'.format(str(elapsed_time))\n",
    "\n",
    "kernelpoly_svm_start_time = dt.datetime.now()\n",
    "kernelpoly_svm_score = kernelpoly_svm.score(X_test, y_test)\n",
    "elapsed_time = dt.datetime.now() - kernelpoly_svm_start_time\n",
    "print 'Prediction takes {}'.format(str(elapsed_time))"
   ]
  },
  {
   "cell_type": "code",
   "execution_count": 19,
   "metadata": {
    "collapsed": false
   },
   "outputs": [
    {
     "name": "stdout",
     "output_type": "stream",
     "text": [
      "[1 1 9 ... 1 9 1]\n"
     ]
    }
   ],
   "source": [
    "import pandas as pd\n",
    "# Create a classifier: a support vector classifier\n",
    "classifier = svm.SVC(C=200,kernel='poly',gamma=0.01,cache_size=8000,probability=False)\n",
    "#classifier = svm.SVC()\n",
    "\n",
    "\n",
    "# We learn the digits on the first half of the digits\n",
    "classifier.fit(X_train, y_train)\n",
    "\n",
    "# Now predict the value of the digit on the second half:\n",
    "#expected = label_test\n",
    "predicted = classifier.predict(X_test)\n",
    "\n",
    "#print(expected)\n",
    "df=pd.DataFrame(predicted)\n",
    "df.index+=1\n",
    "df.index.name='ImageId'\n",
    "df.columns=['Label']\n",
    "df.to_csv('results.csv',header=True)\n",
    "print(predicted)"
   ]
  },
  {
   "cell_type": "code",
   "execution_count": 21,
   "metadata": {
    "collapsed": false
   },
   "outputs": [
    {
     "data": {
      "text/plain": [
       "0.9967350746268657"
      ]
     },
     "execution_count": 21,
     "metadata": {},
     "output_type": "execute_result"
    }
   ],
   "source": [
    "#error rates on the testing dataset for poly kernel\n",
    "classifier.score(X_test, y_test)"
   ]
  }
 ],
 "metadata": {
  "kernelspec": {
   "display_name": "Python [anaconda]",
   "language": "python",
   "name": "Python [anaconda]"
  },
  "language_info": {
   "codemirror_mode": {
    "name": "ipython",
    "version": 2
   },
   "file_extension": ".py",
   "mimetype": "text/x-python",
   "name": "python",
   "nbconvert_exporter": "python",
   "pygments_lexer": "ipython2",
   "version": "2.7.12"
  }
 },
 "nbformat": 4,
 "nbformat_minor": 2
}
