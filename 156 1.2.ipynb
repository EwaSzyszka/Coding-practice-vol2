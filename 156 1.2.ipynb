{
 "cells": [
  {
   "cell_type": "code",
   "execution_count": 5,
   "metadata": {
    "collapsed": false
   },
   "outputs": [
    {
     "name": "stdout",
     "output_type": "stream",
     "text": [
      "['1999', '1999', '1999', '1999', '1999', '1999', '1999', '1999', '1999', '1999', '1999', '1999', '1999', '1999', '1999', '1999', '1999', '1999', '1999', '1999', '1999', '1999', '1999', '1999', '1999', '1999', '1999', '1999', '1999', '1999', '1999', '1999', '1999', '1999', '1999', '1999', '1999', '1999', '1999', '1999', '1999', '1999', '1999', '1999', '1999', '1999', '1999', '1999', '1999', '1999', '1999', '1999', '1999', '1999', '1999', '1999', '1999', '1999', '1999', '1999', '1999', '1999', '1999', '1999', '1999', '1999', '1999', '1999', '1999', '1999', '1999', '1999', '1999', '1999', '1999', '1999', '1999', '1999', '1999', '1999', '1999', '1999', '1999', '1999', '1999', '1999', '1999', '1999', '1999', '1999', '1999', '1999', '1999', '1999', '1999', '1999', '1999', '1999', '1999', '1999', '1999', '1999', '1999', '1999', '1999', '1999', '1999', '1999', '1999', '1999', '2000', '2000', '2000', '2000', '2000', '2000', '2000', '2000', '2000', '2000', '2000', '2000', '2000', '2000', '2000', '2000', '2000', '2000', '2000', '2000', '2000', '2000', '2000', '2000', '2000', '2000', '2000', '2000', '2000', '2000', '2000', '2000', '2000', '2000', '2000', '2000', '2000', '2000', '2000', '2000', '2000', '2000', '2000', '2000', '2000', '2000', '2000', '1996', '1996', '1996', '1996', '1996', '1996', '1996', '1996', '1996', '1996', '1996', '1996', '1996', '1996', '1996', '1996', '1996', '1996', '1996', '1996', '1996', '1996', '1996', '1996', '1996', '1996', '1996', '1996', '1996', '1996', '1996', '1996', '1996', '1996', '1996', '1996', '1996', '1996', '1996', '1996', '1996', '1996', '1996', '1996', '1996', '1996', '1996', '1996', '1996', '1996', '1996', '1996', '1996', '1996', '1996', '1996', '1996', '1996', '1996', '1996', '1996', '1996', '1996', '1996', '1996', '1996', '1996', '1996', '1996', '1996', '1996', '1996', '1996', '1996', '1996', '1996', '1996', '1996', '1996', '1996', '1996', '1996', '1996', '1996', '1996', '1996', '1996', '1996', '1996', '1996', '1996', '1996', '1996', '1996', '1996', '1996', '1996', '1996', '1996', '1996', '1996', '1996', '1996', '1996', '1996', '1996', '1996', '1996', '1996', '1996', '1996', '1996', '1996', '1996', '1996', '1996', '1996', '1996', '1996', '1996', '1996', '1996', '1996', '1996', '1996', '1996', '1996', '1996', '1996', '1996', '1996', '1996', '1996', '1996', '1996', '1996', '1996', '1996', '1996', '1996', '1996', '1996', '1996', '1996', '1996', '1996', '1996', '1996', '1996', '1996', '1996', '1996', '1996', '1996', '1996', '1996', '1996', '1996', '1996', '1996', '1996', '1996', '1996', '1996', '1996', '1996', '1996', '1996', '1996', '1996', '1996', '1996', '1996', '1996', '1996', '1996', '1996', '1996', '1996', '1996', '1997', '1996', '1997', '1997', '1997', '1997', '1997', '1997', '1997', '1997', '1997', '1997', '1997', '1997', '1997', '1997', '1997', '1997', '1997', '1997', '1997', '1997', '1997', '1997', '1997', '1997', '1997', '1997', '1997', '1997', '1997', '1997', '1997', '1997', '1997', '1997', '1997', '1997', '1997', '1997', '1997', '1997', '1997', '1997', '1997', '1997', '1997', '1997', '1997', '1997', '1996', '1996', '1996', '1996', '1997', '1997', '1997', '1997', '1997', '1997', '1997', '1997', '1997', '1997', '1997', '1997', '1997', '1997', '1997', '1997', '1997', '1997', '1997', '1997', '1997', '1997', '1997', '1997', '1997', '1997', '1997', '1997', '1997', '1997', '1997', '1997', '1997', '1996', '1997', '1997', '1997', '1997', '1997', '1997', '1997', '1997', '1997', '1997', '1997', '1997', '1997', '1997', '1998', '1998', '1998', '1998', '1998', '1998', '1998', '1998', '1998', '1998', '1998', '1998', '1998', '1998', '1998', '1998', '1998', '1998', '1998', '1998', '1998', '1998', '1998', '1998', '1998', '1998', '1998', '1998', '1998', '1998', '1998', '1998', '1998', '1998', '1998', '1998', '1998', '1998', '1998', '1998', '1998', '1998', '1998', '1998', '1998', '1998', '1998', '1998', '1998', '1998', '1998', '1998', '1998', '1998', '1998', '1998', '1998', '1998', '1998', '1998', '1998', '1998', '1998', '1998', '1998', '1998', '1998', '1998', '1998', '1998', '1998', '1998', '1998', '1998', '1998', '1998', '1998', '1998', '1998', '1998', '1998', '1998', '1998', '1998', '1998', '1998', '1998', '1998', '1998', '1998', '1998', '1998', '1998', '1998', '1998', '1998', '1998', '1998', '1998', '1998', '1998', '1998', '1998']\n",
      "\n",
      "['8.32', '8.29', '11.8', '13.8', '15.1', '16.0', '16.1', '16.1', '15.9', '32.9', '13.2', '9.44', '10.8', '11.2', '6.56', '7.32', '7.88', '8.53', '7.74', '5.78', '5.37', '7.71', '8.26', '8.76', '8.86', '6.13', '5.38', '6.41', '5.77', '5.31', '6.69', '9.15', '8.72', '8.13', '14.9', '15.4', '8.58', '9.53', '34.8', '36.1', '34.3', '33.4', '9.35', '16.5', '17.2', '15.1', '16.9', '15.8', '14.7', '12.8', '30.9', '17.8', '11.3', '12.9', '8.57', '11.7', '33.3', '34.8', '26.9', '28.4', '11.4', '14.5', '30.2', '11.3', '11.9', '36.9', '28.4', '8.99', '15.0', '28.3', '35.1', '35.5', '18.4', '78.1', '33.5', '18.0', '120', '88.9', '50.3', '21.6', '26.2', '9.43', '8.97', '9.51', '26.2', '9.53', '12.4', '30.0', '13.4', '13.9', '17.6', '16.1', '16.9', '16.1', '17.4', '15.8', '13.9', '14.3', '13.6', '27.8', '30.2', '31.4', '31.2', '13.8', '17.4', '14.4', '13.9', '15.8', '16.2', '15.3', '26.1', '17.4', '14.7', '18.4', '16.8', '18.7', '13.1', '16.2', '27.4', '23.1', '26.5', '15.2', '16.9', '13.1', '13.2', '14.8', '45.4', '39.3', '41.2', '2.92', '37.0', '14.7', '15.2', '47.6', '40.7', '18.2', '35.4', '41.4', '40.7', '18.0', '16.3', '10.1', '19.0', '18.5', '15.5', '16.5', '16.5', '17.9', '5.33', '21.2', '32.3', '32.3', '33.6', '50.9', '25.0', '41.3', '49.5', '2.17', '1.29', '1.72', '2.37', '4.49', '5.22', '5.77', '9.73', '3.45', '4.55', '7.37', '7.37', '6.80', '1.98', '2.54', '2.54', '3.63', '4.13', '3.63', '4.13', '2.61', '2.90', '1.24', '2.97', '2.07', '1.65', '5.32', '6.00', '5.92', '5.07', '5.39', '5.21', '8.74', '8.79', '8.58', '2.67', '6.47', '5.10', '2.70', '6.93', '6.63', '3.01', '1.85', '6.44', '7.15', '4.52', '5.17', '5.62', '5.93', '5.78', '6.55', '5.85', '6.90', '7.02', '5.02', '1.12', '1.18', '2.86', '2.59', '2.60', '2.72', '3.08', '2.89', '8.45', '8.62', '7.28', '9.14', '7.51', '10.0', '6.93', '7.75', '6.83', '3.28', '15.2', '13.8', '12.8', '1.01', '1.11', '1.23', '1.23', '1.35', '1.48', '1.07', '1.19', '0.775', '0.965', '6.18', '6.56', '1.45', '1.60', '2.50', '2.88', '3.20', '1.09', '1.30', '3.60', '3.49', '3.34', '7.45', '8.52', '8.64', '5.56', '5.83', '3.33', '3.13', '2.04', '2.79', '1.60', '2.31', '5.68', '4.67', '6.48', '5.52', '5.02', '7.87', '9.42', '10.6', '7.87', '6.78', '8.56', '8.30', '4.31', '5.18', '5.31', '14.0', '15.2', '5.23', '5.13', '4.29', '5.13', '4.15', '1.95', '2.47', '2.86', '2.91', '5.00', '4.46', '4.39', '4.99', '11.2', '10.5', '8.56', '10.5', '4.23', '6.38', '8.04', '5.17', '6.22', '6.22', '5.17', '8.04', '10.9', '4.25', '4.25', '10.9', '10.3', '9.20', '2.89', '2.89', '4.45', '4.45', '5.06', '5.06', '5.55', '4.88', '5.07', '12.2', '10.8', '12.9', '3.17', '3.19', '2.37', '3.33', '2.96', '3.30', '4.03', '4.23', '7.52', '8.58', '7.82', '6.23', '1.46', '1.77', '1.32', '1.33', '1.62', '1.99', '9.38', '9.38', '11.3', '11.3', '12.0', '3.41', '6.51', '6.03', '7.39', '7.71', '6.69', '5.79', '3.21', '9.39', '3.26', '3.01', '3.24', '3.28', '10.5', '9.03', '8.42', '8.53', '9.17', '2.33', '8.68', '8.17', '4.35', '4.71', '4.71', '4.35', '4.98', '10.1', '4.18', '9.88', '4.75', '4.69', '4.34', '7.79', '15.0', '15.0', '1.32', '1.34', '1.63', '1.47', '1.96', '2.01', '1.76', '8.70', '9.71', '3.72', '11.2', '11.2', '10.6', '5.91', '4.48', '15.0', '14.2', '16.7', '11.5', '5.26', '12.1', '4.63', '5.09', '5.50', '13.0', '9.33', '12.9', '11.4', '13.1', '9.33', '12.4', '12.7', '12.2', '11.4', '11.8', '11.8', '12.2', '10.6', '10.7', '13.2', '12.2', '12.2', '7.46', '10.7', '13.0', '13.9', '13.2', '8.37', '86.7', '11.7', '57.9', '23.2', '5.13', '11.0', '17.3', '17.1', '6.00', '7.17', '10.4', '10.8', '8.21', '5.63', '5.71', '8.40', '8.05', '8.05', '13.2', '5.92', '18.7', '14.9', '10.3', '9.96', '14.4', '65.4', '4.37', '4.86', '5.25', '5.63', '1.30', '1.29', '1.44', '1.59', '1.67', '1.92', '1.96', '3.04', '5.25', '5.61', '7.09', '6.64', '5.35', '8.40', '9.40', '6.46', '7.25', '19.9', '6.40', '7.12', '4.37', '4.86', '5.23', '5.61', '6.53', '7.28', '9.82', '5.35', '5.71', '8.40', '8.40', '7.03', '7.78', '5.32', '12.7', '12.7', '6.49', '8.51', '7.49', '7.52', '7.54', '7.46', '7.44', '10.3', '9.81', '20.4', '20.1', '24.0', '27.8', '28.6', '24.9', '22.1', '29.4', '4.62', '5.14', '7.73', '8.22', '7.68', '5.82', '6.22', '5.73', '18.1', '27.1', '19.9', '23.6', '9.72', '11.2', '5.60', '18.0', '8.17', '3.13', '106', '12.8', '10.6', '9.80', '7.12', '9.80', '18.3', '35.5', '34.9']\n"
     ]
    }
   ],
   "source": [
    "#Extract the date and base speed for a benchmark of your choice\n",
    "\n",
    "data2 = []\n",
    "data = []\n",
    "k = []\n",
    "with open(\"benchmarks.txt\",\"r\") as f:\n",
    "    data = f.readlines() # readlines() returns a list of items, each item is a line in your file\n",
    "\n",
    "for i in range(len(data)):\n",
    "    if '110.applu' in data[i]:\n",
    "        \n",
    "        #creating a new list\n",
    "        data2.append(data[i])\n",
    "\n",
    "#spliting the strings that are squizeed\n",
    "for j in range(len(data2)):\n",
    "    z = data2[j].split(',')\n",
    "    k.append(data2[j].split(','))\n",
    "\n",
    "\n",
    "for i in range(len(k)):\n",
    "    del k[i][1]\n",
    "    del k[i][2]\n",
    "\n",
    "#poping data that is incompleate\n",
    "for i in range(0,33):\n",
    "    k.pop( )\n",
    "    \n",
    "for i in range(len(k)):\n",
    "   \n",
    "    if '1999' in k[i][0]:\n",
    "        k[i][0] = '1999'\n",
    "    if '2000' in k[i][0]:\n",
    "        k[i][0] = '2000'\n",
    "    if '96' in k[i][0]:\n",
    "        k[i][0] = '1996'\n",
    "    if '97' in k[i][0]:\n",
    "        k[i][0] = '1997'\n",
    "    if '98' in k[i][0]:\n",
    "        k[i][0] = '1998'\n",
    "        \n",
    "#print k\n",
    "\n",
    "x_split = []\n",
    "y_split = []\n",
    "\n",
    "for i in range(len(k)):\n",
    "    x_split.append(k[i][0])\n",
    "    y_split.append(k[i][1])\n",
    "    \n",
    "print x_split\n",
    "print ('')\n",
    "print y_split"
   ]
  },
  {
   "cell_type": "code",
   "execution_count": 3,
   "metadata": {
    "collapsed": false
   },
   "outputs": [
    {
     "name": "stdout",
     "output_type": "stream",
     "text": [
      "((342, 1), (342, 1), (200, 1), (200, 1))\n"
     ]
    },
    {
     "data": {
      "image/png": "[encoded data removed]",
      "text/plain": [
       "<matplotlib.figure.Figure at 0x116fc9d50>"
      ]
     },
     "metadata": {},
     "output_type": "display_data"
    }
   ],
   "source": [
    "import matplotlib.pyplot as plt\n",
    "import numpy as np\n",
    "from sklearn import datasets, linear_model\n",
    "%matplotlib inline\n",
    "\n",
    "#x_split = ['1990', '1999', '1999', '1999', '1999', '1999', '1999', '1999', '1999', '1999', '1999', '1999', '1999', '1999', '1999', '1999', '1999', '1999', '1999', '1999', '1999', '1999', '1999', '1999', '1999', '1999', '1999', '1999', '1999', '1999', '1999', '1999', '1999', '1999', '1999', '1999', '1999', '1999', '1999', '2010']\n",
    "#y_split = ['19.4', '19.5', '35.3', '43.0', '63.9', '79.1', '86.5', '91.3', '94.6', '83.3', '47.7', '22.9', '26.7', '27.7', '14.6', '16.3', '17.0', '18.3', '16.5', '12.6', '12.3', '16.4', '17.4', '19.5', '19.7', '14.5', '13.5', '14.9', '14.1', '6.99', '15.2', '20.0', '19.6', '19.4', '27.8', '26.9', '18.3', '21.0', '90.0', '119']\n",
    "\n",
    "#converting strings to integers\n",
    "x_split = list(map(int, x_split))\n",
    "y_split = list(map(float, y_split))\n",
    "\n",
    "# Split the data into training/testing sets\n",
    "X_train = np.array(x_split[:-200])\n",
    "X_test = np.array(x_split[-200:])\n",
    "\n",
    "# Split the targets into training/testing sets\n",
    "y_train = np.array(y_split[:-200])\n",
    "y_test = np.array(y_split[-200:])\n",
    "\n",
    "# Create linear regression object\n",
    "regr = linear_model.LinearRegression()\n",
    "\n",
    "\n",
    "y_train = y_train.reshape(-1,1)\n",
    "X_train = X_train.reshape(-1,1)\n",
    "y_test = y_test.reshape(-1,1)\n",
    "X_test = X_test.reshape(-1,1)\n",
    "\n",
    "print(y_train.shape, X_train.shape, y_test.shape, X_test.shape)\n",
    "\n",
    "regr.fit(X_train, y_train)\n",
    "\n",
    "\n",
    "# Make predictions using the testing set\n",
    "\n",
    "y_pred = regr.predict(X_test)\n",
    "\n",
    "\n",
    "# Plot outputs\n",
    "plt.scatter(X_test, y_test,  color='black')\n",
    "plt.plot(X_test,y_pred, color='blue', linewidth=3)\n",
    "\n",
    "plt.xticks(())\n",
    "plt.yticks(())\n",
    "\n",
    "plt.show()"
   ]
  }
 ],
 "metadata": {
  "kernelspec": {
   "display_name": "Python [Root]",
   "language": "python",
   "name": "Python [Root]"
  },
  "language_info": {
   "codemirror_mode": {
    "name": "ipython",
    "version": 2
   },
   "file_extension": ".py",
   "mimetype": "text/x-python",
   "name": "python",
   "nbconvert_exporter": "python",
   "pygments_lexer": "ipython2",
   "version": "2.7.12"
  }
 },
 "nbformat": 4,
 "nbformat_minor": 0
}
