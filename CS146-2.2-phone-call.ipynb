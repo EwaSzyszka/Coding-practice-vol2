{
 "cells": [
  {
   "cell_type": "markdown",
   "metadata": {},
   "source": [
    "# Call center data modeling\n",
    "\n",
    "You are advising a client on the number of call center agents they need to handle their customer support load. We start by modeling the number of phone calls we expect to come into the call center during each hour of the day.\n",
    "\n",
    "You are provided with a data set of the intervals between phone calls arriving during one day. Each value is a time in minutes indicating the amount of time that passed between receiving two consecutive phone calls.\n",
    "\n",
    "## Loading the data"
   ]
  },
  {
   "cell_type": "code",
   "execution_count": 1,
   "metadata": {
    "collapsed": true
   },
   "outputs": [],
   "source": [
    "import numpy as np\n",
    "from scipy import stats\n",
    "import matplotlib.pyplot as plt"
   ]
  },
  {
   "cell_type": "code",
   "execution_count": 2,
   "metadata": {
    "collapsed": true
   },
   "outputs": [],
   "source": [
    "# Load the data set containing durations between calls arriving at the call center.\n",
    "# All values are in minutes.\n",
    "waiting_times_day = np.loadtxt('call_center.csv')"
   ]
  },
  {
   "cell_type": "code",
   "execution_count": 3,
   "metadata": {
    "collapsed": false
   },
   "outputs": [
    {
     "name": "stdout",
     "output_type": "stream",
     "text": [
      "('Size of data set:', 5891)\n",
      "('First 3 values in data set:', array([5.36, 2.48, 8.08]))\n",
      "('Sum of data set:', 1442.145437310004)\n"
     ]
    }
   ],
   "source": [
    "print('Size of data set:', len(waiting_times_day))\n",
    "print('First 3 values in data set:', waiting_times_day[:3])\n",
    "print('Sum of data set:', sum(waiting_times_day))"
   ]
  },
  {
   "cell_type": "markdown",
   "metadata": {},
   "source": [
    "Since the values are intervals between calls measured in minutes, this means\n",
    "\n",
    "* we assume the first call happened at 00:00 (midnight),\n",
    "* the second call happened at about 00:05 (5.36 minutes after midnight),\n",
    "* the third call happened at about 00:07 (5.36 + 2.48 minutes),\n",
    "* the fourth call happened at about 00:15, etc.\n",
    "\n",
    "When we sum the values, we get about 1440 minutes (1 day)."
   ]
  },
  {
   "cell_type": "markdown",
   "metadata": {},
   "source": [
    "You are told that the number of calls arriving varies quite a lot, depending on which hour of the day it is. The smallest number of calls usually occur around 3am or 4am. Most calls usually come in between 11am and 1pm.\n",
    "\n",
    "## Data pre-processing\n",
    "Since we expect different call rates during different hours, we split the data set into 24 separate series — one for each hour of the day."
   ]
  },
  {
   "cell_type": "code",
   "execution_count": 18,
   "metadata": {
    "collapsed": false
   },
   "outputs": [
    {
     "name": "stdout",
     "output_type": "stream",
     "text": [
      "00:00-01:00 - 7 calls\n",
      "01:00-02:00 - 5 calls\n",
      "02:00-03:00 - 8 calls\n",
      "03:00-04:00 - 7 calls\n",
      "04:00-05:00 - 21 calls\n",
      "05:00-06:00 - 42 calls\n",
      "06:00-07:00 - 96 calls\n",
      "07:00-08:00 - 189 calls\n",
      "08:00-09:00 - 274 calls\n",
      "09:00-10:00 - 344 calls\n",
      "10:00-11:00 - 487 calls\n",
      "11:00-12:00 - 892 calls\n",
      "12:00-13:00 - 869 calls\n",
      "13:00-14:00 - 401 calls\n",
      "14:00-15:00 - 206 calls\n",
      "15:00-16:00 - 169 calls\n",
      "16:00-17:00 - 261 calls\n",
      "17:00-18:00 - 430 calls\n",
      "18:00-19:00 - 579 calls\n",
      "19:00-20:00 - 383 calls\n",
      "20:00-21:00 - 136 calls\n",
      "21:00-22:00 - 45 calls\n",
      "22:00-23:00 - 28 calls\n",
      "23:00-24:00 - 12 calls\n"
     ]
    }
   ],
   "source": [
    "# Split the data into 24 separate series, one for each hour of the day\n",
    "current_time = 0\n",
    "waiting_times_per_hour = [[] for _ in range(24)]  # Make 24 empty lists, one per hour\n",
    "for t in waiting_times_day:\n",
    "    current_hour = int(current_time // 60)\n",
    "    current_time += t\n",
    "    waiting_times_per_hour[current_hour].append(t)\n",
    "\n",
    "for hour, waiting_times_hour in enumerate(waiting_times_per_hour):\n",
    "    print('%02i:00-%02i:00 - %i calls' % (hour, hour + 1, len(waiting_times_hour)))\n",
    "    "
   ]
  },
  {
   "cell_type": "markdown",
   "metadata": {},
   "source": [
    "## Task 1: Plot the number of calls per hour\n",
    "Use Matplotlib to visualize the number of calls that arrive during each hour of the day. The numbers are shown in the output above. You should find an appropriate way to visualize it."
   ]
  },
  {
   "cell_type": "code",
   "execution_count": 13,
   "metadata": {
    "collapsed": false
   },
   "outputs": [
    {
     "data": {
      "image/png": "[encoded data removed]",
      "text/plain": [
       "<matplotlib.figure.Figure at 0x1143b04d0>"
      ]
     },
     "metadata": {},
     "output_type": "display_data"
    }
   ],
   "source": [
    "import numpy as np\n",
    "import matplotlib.pyplot as plt\n",
    "%matplotlib inline \n",
    "\n",
    "x = [1,2,3,4,5,6,7,8,9,10,11,12,13,14,15,16,17,18,19,20,21,22,23,24]\n",
    "y = [7,5,8,7,21,42,96,189,274,344,487,892,869,401,206,169,261,430,579,383,136,45,28,12]\n",
    "\n",
    "plt.scatter(x, y, alpha=0.5)\n",
    "plt.show()"
   ]
  },
  {
   "cell_type": "markdown",
   "metadata": {},
   "source": [
    "## Task 2: Plot a histogram of the durations for one hour\n",
    "Take the data for the 11th hour (so between 11am and 12pm) and plot a histogram showing the distribution over waiting times between calls during that hour."
   ]
  },
  {
   "cell_type": "code",
   "execution_count": 67,
   "metadata": {
    "collapsed": false
   },
   "outputs": [
    {
     "data": {
      "image/png": "[encoded data removed]",
      "text/plain": [
       "<matplotlib.figure.Figure at 0x1143b0350>"
      ]
     },
     "metadata": {},
     "output_type": "display_data"
    }
   ],
   "source": [
    "#11h = 11*60 =660 is the first time for 11th hour\n",
    "sum(waiting_times_day[:993])  #993 log is the fist one for the 11th hour\n",
    "\n",
    "#12*60 = 720 is the last time for 11th hour\n",
    "sum(waiting_times_day[:2371]) # 2371 log is the last one for the 11th hour\n",
    "\n",
    "\n",
    "#take all the waiting times between 993 and 2371\n",
    "a = waiting_times_day[993:2371]\n",
    "\n",
    "plt.hist(a, bins='auto')  # arguments are passed to np.histogram\n",
    "plt.title(\"Waiting times for 11th hour\")\n",
    "plt.show()  "
   ]
  },
  {
   "cell_type": "markdown",
   "metadata": {
    "collapsed": true
   },
   "source": [
    "## Task 3: Guess the distribution\n",
    "What type of distribution best represents the data in your histogram?\n",
    "\n",
    "* Identify a type of distribution.\n",
    "* Guess what the parameters of the distribution are.\n",
    "* Plot the pdf of your best guess on top of your histogram, to see if they match.\n",
    "* Important: you have to normalize your histogram so that it will have the same vertical scale as the plot of the pdf. You can normalize a histogram by using the argument `normed=True` in the `hist` function."
   ]
  },
  {
   "cell_type": "code",
   "execution_count": null,
   "metadata": {
    "collapsed": true
   },
   "outputs": [],
   "source": [
    "#My guess is that this is a gamma distribution with the parameters: alpha = 1 and theta = 2"
   ]
  },
  {
   "cell_type": "code",
   "execution_count": 74,
   "metadata": {
    "collapsed": false
   },
   "outputs": [
    {
     "data": {
      "image/png": "[encoded data removed]",
      "text/plain": [
       "<matplotlib.figure.Figure at 0x11432c8d0>"
      ]
     },
     "metadata": {},
     "output_type": "display_data"
    }
   ],
   "source": [
    "from scipy.stats import gamma\n",
    "import matplotlib.pyplot as plt\n",
    "\n",
    "fig, ax = plt.subplots(1, 1)\n",
    "a = 1\n",
    "\n",
    "mean, var, skew, kurt = gamma.stats(a, moments='mvsk')\n",
    "\n",
    "x = np.linspace(gamma.ppf(0.01, a),gamma.ppf(0.99, a), 100)\n",
    "ax.plot(x, gamma.pdf(x, a), 'b-', lw=1, alpha=0.5, label='gamma a')\n",
    "\n",
    "\n",
    "r = gamma.rvs(a, size=100)\n",
    "\n",
    "\n",
    "ax.hist(r, normed=True, histtype='stepfilled', alpha=0.2)\n",
    "ax.legend(loc='best', frameon=False)\n",
    "plt.show()"
   ]
  }
 ],
 "metadata": {
  "anaconda-cloud": {},
  "kernelspec": {
   "display_name": "Python [Root]",
   "language": "python",
   "name": "Python [Root]"
  },
  "language_info": {
   "codemirror_mode": {
    "name": "ipython",
    "version": 2
   },
   "file_extension": ".py",
   "mimetype": "text/x-python",
   "name": "python",
   "nbconvert_exporter": "python",
   "pygments_lexer": "ipython2",
   "version": "2.7.12"
  }
 },
 "nbformat": 4,
 "nbformat_minor": 2
}
